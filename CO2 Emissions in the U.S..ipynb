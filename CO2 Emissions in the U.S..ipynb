{
  "nbformat": 4,
  "nbformat_minor": 0,
  "metadata": {
    "colab": {
      "name": "Untitled8.ipynb",
      "provenance": [],
      "authorship_tag": "ABX9TyM9I4pNNEH9DlgW97jIDNxg",
      "include_colab_link": true
    },
    "kernelspec": {
      "name": "python3",
      "display_name": "Python 3"
    },
    "language_info": {
      "name": "python"
    }
  },
  "cells": [
    {
      "cell_type": "markdown",
      "metadata": {
        "id": "view-in-github",
        "colab_type": "text"
      },
      "source": [
        "<a href=\"https://colab.research.google.com/github/Kenshinhuang/Time-series/blob/master/CO2%20Emissions%20in%20the%20U.S..ipynb\" target=\"_parent\"><img src=\"https://colab.research.google.com/assets/colab-badge.svg\" alt=\"Open In Colab\"/></a>"
      ]
    },
    {
      "cell_type": "code",
      "metadata": {
        "colab": {
          "base_uri": "https://localhost:8080/",
          "height": 205
        },
        "id": "1puZCTJlvmr0",
        "outputId": "81424851-a74b-42ac-85c4-e5b653c49cda"
      },
      "source": [
        "import pandas as pd\n",
        "\n",
        "# Load the data\n",
        "url=\"https://bd29ee0e-54ab-4daa-9671-d153865d1620.usrfiles.com/ugd/bd29ee_997120a21a134b84b238e63c2c1d39bb.csv\"\n",
        "df=pd.read_csv(url)\n",
        "df.head()"
      ],
      "execution_count": 1,
      "outputs": [
        {
          "output_type": "execute_result",
          "data": {
            "text/html": [
              "<div>\n",
              "<style scoped>\n",
              "    .dataframe tbody tr th:only-of-type {\n",
              "        vertical-align: middle;\n",
              "    }\n",
              "\n",
              "    .dataframe tbody tr th {\n",
              "        vertical-align: top;\n",
              "    }\n",
              "\n",
              "    .dataframe thead th {\n",
              "        text-align: right;\n",
              "    }\n",
              "</style>\n",
              "<table border=\"1\" class=\"dataframe\">\n",
              "  <thead>\n",
              "    <tr style=\"text-align: right;\">\n",
              "      <th></th>\n",
              "      <th>label</th>\n",
              "      <th>CO2 Emissions</th>\n",
              "    </tr>\n",
              "  </thead>\n",
              "  <tbody>\n",
              "    <tr>\n",
              "      <th>0</th>\n",
              "      <td>2016</td>\n",
              "      <td>15.502204</td>\n",
              "    </tr>\n",
              "    <tr>\n",
              "      <th>1</th>\n",
              "      <td>2015</td>\n",
              "      <td>15.989866</td>\n",
              "    </tr>\n",
              "    <tr>\n",
              "      <th>2</th>\n",
              "      <td>2014</td>\n",
              "      <td>16.416576</td>\n",
              "    </tr>\n",
              "    <tr>\n",
              "      <th>3</th>\n",
              "      <td>2013</td>\n",
              "      <td>16.362224</td>\n",
              "    </tr>\n",
              "    <tr>\n",
              "      <th>4</th>\n",
              "      <td>2012</td>\n",
              "      <td>16.193429</td>\n",
              "    </tr>\n",
              "  </tbody>\n",
              "</table>\n",
              "</div>"
            ],
            "text/plain": [
              "   label  CO2 Emissions\n",
              "0   2016      15.502204\n",
              "1   2015      15.989866\n",
              "2   2014      16.416576\n",
              "3   2013      16.362224\n",
              "4   2012      16.193429"
            ]
          },
          "metadata": {
            "tags": []
          },
          "execution_count": 1
        }
      ]
    },
    {
      "cell_type": "code",
      "metadata": {
        "colab": {
          "base_uri": "https://localhost:8080/",
          "height": 205
        },
        "id": "m3Xr-q7ewANw",
        "outputId": "e6abe142-c3c7-4ca1-f169-cc6a3e2f2c53"
      },
      "source": [
        "# Rename the \"label\" column as \"Year\"\n",
        "df=df.rename(columns={\"label\":\"Year\"})\n",
        "df=df.iloc[::-1].reset_index(drop=True)\n",
        "df.head()"
      ],
      "execution_count": 2,
      "outputs": [
        {
          "output_type": "execute_result",
          "data": {
            "text/html": [
              "<div>\n",
              "<style scoped>\n",
              "    .dataframe tbody tr th:only-of-type {\n",
              "        vertical-align: middle;\n",
              "    }\n",
              "\n",
              "    .dataframe tbody tr th {\n",
              "        vertical-align: top;\n",
              "    }\n",
              "\n",
              "    .dataframe thead th {\n",
              "        text-align: right;\n",
              "    }\n",
              "</style>\n",
              "<table border=\"1\" class=\"dataframe\">\n",
              "  <thead>\n",
              "    <tr style=\"text-align: right;\">\n",
              "      <th></th>\n",
              "      <th>Year</th>\n",
              "      <th>CO2 Emissions</th>\n",
              "    </tr>\n",
              "  </thead>\n",
              "  <tbody>\n",
              "    <tr>\n",
              "      <th>0</th>\n",
              "      <td>1960</td>\n",
              "      <td>15.999779</td>\n",
              "    </tr>\n",
              "    <tr>\n",
              "      <th>1</th>\n",
              "      <td>1961</td>\n",
              "      <td>15.681256</td>\n",
              "    </tr>\n",
              "    <tr>\n",
              "      <th>2</th>\n",
              "      <td>1962</td>\n",
              "      <td>16.013937</td>\n",
              "    </tr>\n",
              "    <tr>\n",
              "      <th>3</th>\n",
              "      <td>1963</td>\n",
              "      <td>16.482762</td>\n",
              "    </tr>\n",
              "    <tr>\n",
              "      <th>4</th>\n",
              "      <td>1964</td>\n",
              "      <td>16.968119</td>\n",
              "    </tr>\n",
              "  </tbody>\n",
              "</table>\n",
              "</div>"
            ],
            "text/plain": [
              "   Year  CO2 Emissions\n",
              "0  1960      15.999779\n",
              "1  1961      15.681256\n",
              "2  1962      16.013937\n",
              "3  1963      16.482762\n",
              "4  1964      16.968119"
            ]
          },
          "metadata": {
            "tags": []
          },
          "execution_count": 2
        }
      ]
    },
    {
      "cell_type": "code",
      "metadata": {
        "colab": {
          "base_uri": "https://localhost:8080/",
          "height": 542
        },
        "id": "veI-H-FPwHC6",
        "outputId": "9906b5ca-1ec2-480c-d3fd-eee04b4c0e1c"
      },
      "source": [
        "import plotly.express as px\n",
        "fig = px.bar(df, x='Year', y='CO2 Emissions',title=\"CO2 Emissions in the U.S. in Metric Tons, 1960-2016\")\n",
        "fig.show()"
      ],
      "execution_count": 18,
      "outputs": [
        {
          "output_type": "display_data",
          "data": {
            "text/html": [
              "<html>\n",
              "<head><meta charset=\"utf-8\" /></head>\n",
              "<body>\n",
              "    <div>\n",
              "            <script src=\"https://cdnjs.cloudflare.com/ajax/libs/mathjax/2.7.5/MathJax.js?config=TeX-AMS-MML_SVG\"></script><script type=\"text/javascript\">if (window.MathJax) {MathJax.Hub.Config({SVG: {font: \"STIX-Web\"}});}</script>\n",
              "                <script type=\"text/javascript\">window.PlotlyConfig = {MathJaxConfig: 'local'};</script>\n",
              "        <script src=\"https://cdn.plot.ly/plotly-latest.min.js\"></script>    \n",
              "            <div id=\"5d7b17a1-4afb-4adb-9d94-43190b79e44d\" class=\"plotly-graph-div\" style=\"height:525px; width:100%;\"></div>\n",
              "            <script type=\"text/javascript\">\n",
              "                \n",
              "                    window.PLOTLYENV=window.PLOTLYENV || {};\n",
              "                    \n",
              "                if (document.getElementById(\"5d7b17a1-4afb-4adb-9d94-43190b79e44d\")) {\n",
              "                    Plotly.newPlot(\n",
              "                        '5d7b17a1-4afb-4adb-9d94-43190b79e44d',\n",
              "                        [{\"alignmentgroup\": \"True\", \"hoverlabel\": {\"namelength\": 0}, \"hovertemplate\": \"Year=%{x}<br>CO2 Emissions=%{y}\", \"legendgroup\": \"\", \"marker\": {\"color\": \"#636efa\"}, \"name\": \"\", \"offsetgroup\": \"\", \"orientation\": \"v\", \"showlegend\": false, \"textposition\": \"auto\", \"type\": \"bar\", \"x\": [1960, 1961, 1962, 1963, 1964, 1965, 1966, 1967, 1968, 1969, 1970, 1971, 1972, 1973, 1974, 1975, 1976, 1977, 1978, 1979, 1980, 1981, 1982, 1983, 1984, 1985, 1986, 1987, 1988, 1989, 1990, 1991, 1992, 1993, 1994, 1995, 1996, 1997, 1998, 1999, 2000, 2001, 2002, 2003, 2004, 2005, 2006, 2007, 2008, 2009, 2010, 2011, 2012, 2013, 2014, 2015, 2016], \"xaxis\": \"x\", \"y\": [15.999779156588499, 15.6812555160569, 16.0139374979897, 16.4827621458239, 16.9681185789701, 17.4517252487095, 18.1210730107855, 18.5983178821611, 19.0893891562783, 19.857945662309998, 21.111252272594303, 20.9802034758573, 21.7486419846019, 22.510582127233896, 21.502930377734298, 20.4022240696754, 21.1576153736785, 21.5324840060117, 21.9730046948357, 21.780436977627698, 20.7864877412257, 19.7667641742132, 18.5904952301609, 18.5715437097933, 18.976750268207397, 18.8823127427246, 18.7207227161615, 19.3503344229412, 20.0104134086438, 20.075769778663698, 19.322751180780603, 19.0561631861681, 19.1394372782772, 19.3470829142925, 19.3608920479162, 19.2765452647233, 19.4960247370023, 19.690363181579798, 19.579236201033897, 19.727169506164, 20.1787505069199, 19.636505067718698, 19.613404076881398, 19.5641045293305, 19.6583711815214, 19.5918852294317, 19.0940665201349, 19.217897835532, 18.461763868080197, 17.1577377931966, 17.4431109038447, 16.9152017650556, 16.1934293295892, 16.3622241347427, 16.4165759129484, 15.989866258055999, 15.502203980957999], \"yaxis\": \"y\"}],\n",
              "                        {\"barmode\": \"relative\", \"legend\": {\"tracegroupgap\": 0}, \"template\": {\"data\": {\"bar\": [{\"error_x\": {\"color\": \"#2a3f5f\"}, \"error_y\": {\"color\": \"#2a3f5f\"}, \"marker\": {\"line\": {\"color\": \"#E5ECF6\", \"width\": 0.5}}, \"type\": \"bar\"}], \"barpolar\": [{\"marker\": {\"line\": {\"color\": \"#E5ECF6\", \"width\": 0.5}}, \"type\": \"barpolar\"}], \"carpet\": [{\"aaxis\": {\"endlinecolor\": \"#2a3f5f\", \"gridcolor\": \"white\", \"linecolor\": \"white\", \"minorgridcolor\": \"white\", \"startlinecolor\": \"#2a3f5f\"}, \"baxis\": {\"endlinecolor\": \"#2a3f5f\", \"gridcolor\": \"white\", \"linecolor\": \"white\", \"minorgridcolor\": \"white\", \"startlinecolor\": \"#2a3f5f\"}, \"type\": \"carpet\"}], \"choropleth\": [{\"colorbar\": {\"outlinewidth\": 0, \"ticks\": \"\"}, \"type\": \"choropleth\"}], \"contour\": [{\"colorbar\": {\"outlinewidth\": 0, \"ticks\": \"\"}, \"colorscale\": [[0.0, \"#0d0887\"], [0.1111111111111111, \"#46039f\"], [0.2222222222222222, \"#7201a8\"], [0.3333333333333333, \"#9c179e\"], [0.4444444444444444, \"#bd3786\"], [0.5555555555555556, \"#d8576b\"], [0.6666666666666666, \"#ed7953\"], [0.7777777777777778, \"#fb9f3a\"], [0.8888888888888888, \"#fdca26\"], [1.0, \"#f0f921\"]], \"type\": \"contour\"}], \"contourcarpet\": [{\"colorbar\": {\"outlinewidth\": 0, \"ticks\": \"\"}, \"type\": \"contourcarpet\"}], \"heatmap\": [{\"colorbar\": {\"outlinewidth\": 0, \"ticks\": \"\"}, \"colorscale\": [[0.0, \"#0d0887\"], [0.1111111111111111, \"#46039f\"], [0.2222222222222222, \"#7201a8\"], [0.3333333333333333, \"#9c179e\"], [0.4444444444444444, \"#bd3786\"], [0.5555555555555556, \"#d8576b\"], [0.6666666666666666, \"#ed7953\"], [0.7777777777777778, \"#fb9f3a\"], [0.8888888888888888, \"#fdca26\"], [1.0, \"#f0f921\"]], \"type\": \"heatmap\"}], \"heatmapgl\": [{\"colorbar\": {\"outlinewidth\": 0, \"ticks\": \"\"}, \"colorscale\": [[0.0, \"#0d0887\"], [0.1111111111111111, \"#46039f\"], [0.2222222222222222, \"#7201a8\"], [0.3333333333333333, \"#9c179e\"], [0.4444444444444444, \"#bd3786\"], [0.5555555555555556, \"#d8576b\"], [0.6666666666666666, \"#ed7953\"], [0.7777777777777778, \"#fb9f3a\"], [0.8888888888888888, \"#fdca26\"], [1.0, \"#f0f921\"]], \"type\": \"heatmapgl\"}], \"histogram\": [{\"marker\": {\"colorbar\": {\"outlinewidth\": 0, \"ticks\": \"\"}}, \"type\": \"histogram\"}], \"histogram2d\": [{\"colorbar\": {\"outlinewidth\": 0, \"ticks\": \"\"}, \"colorscale\": [[0.0, \"#0d0887\"], [0.1111111111111111, \"#46039f\"], [0.2222222222222222, \"#7201a8\"], [0.3333333333333333, \"#9c179e\"], [0.4444444444444444, \"#bd3786\"], [0.5555555555555556, \"#d8576b\"], [0.6666666666666666, \"#ed7953\"], [0.7777777777777778, \"#fb9f3a\"], [0.8888888888888888, \"#fdca26\"], [1.0, \"#f0f921\"]], \"type\": \"histogram2d\"}], \"histogram2dcontour\": [{\"colorbar\": {\"outlinewidth\": 0, \"ticks\": \"\"}, \"colorscale\": [[0.0, \"#0d0887\"], [0.1111111111111111, \"#46039f\"], [0.2222222222222222, \"#7201a8\"], [0.3333333333333333, \"#9c179e\"], [0.4444444444444444, \"#bd3786\"], [0.5555555555555556, \"#d8576b\"], [0.6666666666666666, \"#ed7953\"], [0.7777777777777778, \"#fb9f3a\"], [0.8888888888888888, \"#fdca26\"], [1.0, \"#f0f921\"]], \"type\": \"histogram2dcontour\"}], \"mesh3d\": [{\"colorbar\": {\"outlinewidth\": 0, \"ticks\": \"\"}, \"type\": \"mesh3d\"}], \"parcoords\": [{\"line\": {\"colorbar\": {\"outlinewidth\": 0, \"ticks\": \"\"}}, \"type\": \"parcoords\"}], \"pie\": [{\"automargin\": true, \"type\": \"pie\"}], \"scatter\": [{\"marker\": {\"colorbar\": {\"outlinewidth\": 0, \"ticks\": \"\"}}, \"type\": \"scatter\"}], \"scatter3d\": [{\"line\": {\"colorbar\": {\"outlinewidth\": 0, \"ticks\": \"\"}}, \"marker\": {\"colorbar\": {\"outlinewidth\": 0, \"ticks\": \"\"}}, \"type\": \"scatter3d\"}], \"scattercarpet\": [{\"marker\": {\"colorbar\": {\"outlinewidth\": 0, \"ticks\": \"\"}}, \"type\": \"scattercarpet\"}], \"scattergeo\": [{\"marker\": {\"colorbar\": {\"outlinewidth\": 0, \"ticks\": \"\"}}, \"type\": \"scattergeo\"}], \"scattergl\": [{\"marker\": {\"colorbar\": {\"outlinewidth\": 0, \"ticks\": \"\"}}, \"type\": \"scattergl\"}], \"scattermapbox\": [{\"marker\": {\"colorbar\": {\"outlinewidth\": 0, \"ticks\": \"\"}}, \"type\": \"scattermapbox\"}], \"scatterpolar\": [{\"marker\": {\"colorbar\": {\"outlinewidth\": 0, \"ticks\": \"\"}}, \"type\": \"scatterpolar\"}], \"scatterpolargl\": [{\"marker\": {\"colorbar\": {\"outlinewidth\": 0, \"ticks\": \"\"}}, \"type\": \"scatterpolargl\"}], \"scatterternary\": [{\"marker\": {\"colorbar\": {\"outlinewidth\": 0, \"ticks\": \"\"}}, \"type\": \"scatterternary\"}], \"surface\": [{\"colorbar\": {\"outlinewidth\": 0, \"ticks\": \"\"}, \"colorscale\": [[0.0, \"#0d0887\"], [0.1111111111111111, \"#46039f\"], [0.2222222222222222, \"#7201a8\"], [0.3333333333333333, \"#9c179e\"], [0.4444444444444444, \"#bd3786\"], [0.5555555555555556, \"#d8576b\"], [0.6666666666666666, \"#ed7953\"], [0.7777777777777778, \"#fb9f3a\"], [0.8888888888888888, \"#fdca26\"], [1.0, \"#f0f921\"]], \"type\": \"surface\"}], \"table\": [{\"cells\": {\"fill\": {\"color\": \"#EBF0F8\"}, \"line\": {\"color\": \"white\"}}, \"header\": {\"fill\": {\"color\": \"#C8D4E3\"}, \"line\": {\"color\": \"white\"}}, \"type\": \"table\"}]}, \"layout\": {\"annotationdefaults\": {\"arrowcolor\": \"#2a3f5f\", \"arrowhead\": 0, \"arrowwidth\": 1}, \"coloraxis\": {\"colorbar\": {\"outlinewidth\": 0, \"ticks\": \"\"}}, \"colorscale\": {\"diverging\": [[0, \"#8e0152\"], [0.1, \"#c51b7d\"], [0.2, \"#de77ae\"], [0.3, \"#f1b6da\"], [0.4, \"#fde0ef\"], [0.5, \"#f7f7f7\"], [0.6, \"#e6f5d0\"], [0.7, \"#b8e186\"], [0.8, \"#7fbc41\"], [0.9, \"#4d9221\"], [1, \"#276419\"]], \"sequential\": [[0.0, \"#0d0887\"], [0.1111111111111111, \"#46039f\"], [0.2222222222222222, \"#7201a8\"], [0.3333333333333333, \"#9c179e\"], [0.4444444444444444, \"#bd3786\"], [0.5555555555555556, \"#d8576b\"], [0.6666666666666666, \"#ed7953\"], [0.7777777777777778, \"#fb9f3a\"], [0.8888888888888888, \"#fdca26\"], [1.0, \"#f0f921\"]], \"sequentialminus\": [[0.0, \"#0d0887\"], [0.1111111111111111, \"#46039f\"], [0.2222222222222222, \"#7201a8\"], [0.3333333333333333, \"#9c179e\"], [0.4444444444444444, \"#bd3786\"], [0.5555555555555556, \"#d8576b\"], [0.6666666666666666, \"#ed7953\"], [0.7777777777777778, \"#fb9f3a\"], [0.8888888888888888, \"#fdca26\"], [1.0, \"#f0f921\"]]}, \"colorway\": [\"#636efa\", \"#EF553B\", \"#00cc96\", \"#ab63fa\", \"#FFA15A\", \"#19d3f3\", \"#FF6692\", \"#B6E880\", \"#FF97FF\", \"#FECB52\"], \"font\": {\"color\": \"#2a3f5f\"}, \"geo\": {\"bgcolor\": \"white\", \"lakecolor\": \"white\", \"landcolor\": \"#E5ECF6\", \"showlakes\": true, \"showland\": true, \"subunitcolor\": \"white\"}, \"hoverlabel\": {\"align\": \"left\"}, \"hovermode\": \"closest\", \"mapbox\": {\"style\": \"light\"}, \"paper_bgcolor\": \"white\", \"plot_bgcolor\": \"#E5ECF6\", \"polar\": {\"angularaxis\": {\"gridcolor\": \"white\", \"linecolor\": \"white\", \"ticks\": \"\"}, \"bgcolor\": \"#E5ECF6\", \"radialaxis\": {\"gridcolor\": \"white\", \"linecolor\": \"white\", \"ticks\": \"\"}}, \"scene\": {\"xaxis\": {\"backgroundcolor\": \"#E5ECF6\", \"gridcolor\": \"white\", \"gridwidth\": 2, \"linecolor\": \"white\", \"showbackground\": true, \"ticks\": \"\", \"zerolinecolor\": \"white\"}, \"yaxis\": {\"backgroundcolor\": \"#E5ECF6\", \"gridcolor\": \"white\", \"gridwidth\": 2, \"linecolor\": \"white\", \"showbackground\": true, \"ticks\": \"\", \"zerolinecolor\": \"white\"}, \"zaxis\": {\"backgroundcolor\": \"#E5ECF6\", \"gridcolor\": \"white\", \"gridwidth\": 2, \"linecolor\": \"white\", \"showbackground\": true, \"ticks\": \"\", \"zerolinecolor\": \"white\"}}, \"shapedefaults\": {\"line\": {\"color\": \"#2a3f5f\"}}, \"ternary\": {\"aaxis\": {\"gridcolor\": \"white\", \"linecolor\": \"white\", \"ticks\": \"\"}, \"baxis\": {\"gridcolor\": \"white\", \"linecolor\": \"white\", \"ticks\": \"\"}, \"bgcolor\": \"#E5ECF6\", \"caxis\": {\"gridcolor\": \"white\", \"linecolor\": \"white\", \"ticks\": \"\"}}, \"title\": {\"x\": 0.05}, \"xaxis\": {\"automargin\": true, \"gridcolor\": \"white\", \"linecolor\": \"white\", \"ticks\": \"\", \"title\": {\"standoff\": 15}, \"zerolinecolor\": \"white\", \"zerolinewidth\": 2}, \"yaxis\": {\"automargin\": true, \"gridcolor\": \"white\", \"linecolor\": \"white\", \"ticks\": \"\", \"title\": {\"standoff\": 15}, \"zerolinecolor\": \"white\", \"zerolinewidth\": 2}}}, \"title\": {\"text\": \"CO2 Emissions in the U.S. in Metric Tons, 1960-2016\"}, \"xaxis\": {\"anchor\": \"y\", \"domain\": [0.0, 1.0], \"title\": {\"text\": \"Year\"}}, \"yaxis\": {\"anchor\": \"x\", \"domain\": [0.0, 1.0], \"title\": {\"text\": \"CO2 Emissions\"}}},\n",
              "                        {\"responsive\": true}\n",
              "                    ).then(function(){\n",
              "                            \n",
              "var gd = document.getElementById('5d7b17a1-4afb-4adb-9d94-43190b79e44d');\n",
              "var x = new MutationObserver(function (mutations, observer) {{\n",
              "        var display = window.getComputedStyle(gd).display;\n",
              "        if (!display || display === 'none') {{\n",
              "            console.log([gd, 'removed!']);\n",
              "            Plotly.purge(gd);\n",
              "            observer.disconnect();\n",
              "        }}\n",
              "}});\n",
              "\n",
              "// Listen for the removal of the full notebook cells\n",
              "var notebookContainer = gd.closest('#notebook-container');\n",
              "if (notebookContainer) {{\n",
              "    x.observe(notebookContainer, {childList: true});\n",
              "}}\n",
              "\n",
              "// Listen for the clearing of the current output cell\n",
              "var outputEl = gd.closest('.output');\n",
              "if (outputEl) {{\n",
              "    x.observe(outputEl, {childList: true});\n",
              "}}\n",
              "\n",
              "                        })\n",
              "                };\n",
              "                \n",
              "            </script>\n",
              "        </div>\n",
              "</body>\n",
              "</html>"
            ]
          },
          "metadata": {
            "tags": []
          }
        }
      ]
    },
    {
      "cell_type": "code",
      "metadata": {
        "colab": {
          "base_uri": "https://localhost:8080/"
        },
        "id": "itvc-kiTxJuR",
        "outputId": "136d81b9-1de2-4a01-d467-feb2d08b4860"
      },
      "source": [
        "from matplotlib import pyplot as plt\n",
        "from statsmodels.tsa.arima_model import ARIMA\n",
        "from sklearn.metrics import mean_squared_error, mean_absolute_error\n",
        "import numpy as np\n",
        "\n",
        "import warnings\n",
        "warnings.filterwarnings(\"ignore\")"
      ],
      "execution_count": 4,
      "outputs": [
        {
          "output_type": "stream",
          "text": [
            "/usr/local/lib/python3.7/dist-packages/statsmodels/tools/_testing.py:19: FutureWarning:\n",
            "\n",
            "pandas.util.testing is deprecated. Use the functions in the public API at pandas.testing instead.\n",
            "\n"
          ],
          "name": "stderr"
        }
      ]
    },
    {
      "cell_type": "code",
      "metadata": {
        "colab": {
          "base_uri": "https://localhost:8080/"
        },
        "id": "xkvYJzbDxk3n",
        "outputId": "fef03281-e9ae-400e-c86b-4a076c702f6c"
      },
      "source": [
        "# build an ARIMA model for the time series. \n",
        "X = df[[\"CO2 Emissions\"]].values\n",
        "size = int(len(X) * 0.7) # Use 70% of the data for training.\n",
        "\n",
        "train, test = X[0:size], X[size:len(X)]\n",
        "history = [x for x in train]\n",
        "predictions = list()\n",
        "\n",
        "# Train, test the model and print out the MAPE.\n",
        "for t in range(len(test)):\n",
        "\tmodel = ARIMA(history, order=(5,1,0))\n",
        "\tmodel_fit = model.fit(disp=-1)\n",
        "\toutput = model_fit.forecast()\n",
        "\tyhat = output[0]\n",
        "\tpredictions.append(yhat)\n",
        "\tobs = test[t]\n",
        "\thistory.append(obs)\n",
        "mape = np.mean(np.abs(predictions -test )/np.abs(test))\n",
        "print('MAPE: '+str(mape))"
      ],
      "execution_count": 5,
      "outputs": [
        {
          "output_type": "stream",
          "text": [
            "MAPE: 0.023365099550534004\n"
          ],
          "name": "stdout"
        }
      ]
    },
    {
      "cell_type": "markdown",
      "metadata": {
        "id": "BhSU-YVm584i"
      },
      "source": [
        "###### The MAPE is less than 10%. In fact, it is a lot smaller than 10%. So, the ARIMA model is decent.\n",
        "\n",
        "`\n",
        "\n"
      ]
    },
    {
      "cell_type": "code",
      "metadata": {
        "colab": {
          "base_uri": "https://localhost:8080/",
          "height": 612
        },
        "id": "8xSppm-kxnM-",
        "outputId": "f6d1b142-fe97-4854-c86d-87ece3ab6c70"
      },
      "source": [
        "# Plot the actual observations in the test data and their predictions by the model. \n",
        "plt.figure(figsize=(20,10))\n",
        "plt.plot(test,label=\"Actual\")\n",
        "plt.plot(predictions,label=\"Predicted\")\n",
        "plt.legend(fontsize=15)\n",
        "plt.show()"
      ],
      "execution_count": 7,
      "outputs": [
        {
          "output_type": "display_data",
          "data": {
            "image/png": "[encoded data removed]",
            "text/plain": [
              "<Figure size 1440x720 with 1 Axes>"
            ]
          },
          "metadata": {
            "tags": [],
            "needs_background": "light"
          }
        }
      ]
    },
    {
      "cell_type": "markdown",
      "metadata": {
        "id": "h74_NWIB6liM"
      },
      "source": [
        "###### As shown, the predictions are one period ahead of the actual observations and are not very useful for predictions. Shift the predictions backward  by one period."
      ]
    },
    {
      "cell_type": "code",
      "metadata": {
        "colab": {
          "base_uri": "https://localhost:8080/",
          "height": 581
        },
        "id": "aEMbRM50zjES",
        "outputId": "4eddc7d1-949c-450c-d0dd-50509e7d28b5"
      },
      "source": [
        "predictions=pd.DataFrame(predictions).shift(-1).dropna().rename(columns={0:\"Predicted CO2 Emissions\"})\n",
        "predictions"
      ],
      "execution_count": 8,
      "outputs": [
        {
          "output_type": "execute_result",
          "data": {
            "text/html": [
              "<div>\n",
              "<style scoped>\n",
              "    .dataframe tbody tr th:only-of-type {\n",
              "        vertical-align: middle;\n",
              "    }\n",
              "\n",
              "    .dataframe tbody tr th {\n",
              "        vertical-align: top;\n",
              "    }\n",
              "\n",
              "    .dataframe thead th {\n",
              "        text-align: right;\n",
              "    }\n",
              "</style>\n",
              "<table border=\"1\" class=\"dataframe\">\n",
              "  <thead>\n",
              "    <tr style=\"text-align: right;\">\n",
              "      <th></th>\n",
              "      <th>Predicted CO2 Emissions</th>\n",
              "    </tr>\n",
              "  </thead>\n",
              "  <tbody>\n",
              "    <tr>\n",
              "      <th>0</th>\n",
              "      <td>19.936810</td>\n",
              "    </tr>\n",
              "    <tr>\n",
              "      <th>1</th>\n",
              "      <td>20.402232</td>\n",
              "    </tr>\n",
              "    <tr>\n",
              "      <th>2</th>\n",
              "      <td>19.254159</td>\n",
              "    </tr>\n",
              "    <tr>\n",
              "      <th>3</th>\n",
              "      <td>19.965316</td>\n",
              "    </tr>\n",
              "    <tr>\n",
              "      <th>4</th>\n",
              "      <td>19.406870</td>\n",
              "    </tr>\n",
              "    <tr>\n",
              "      <th>5</th>\n",
              "      <td>19.838446</td>\n",
              "    </tr>\n",
              "    <tr>\n",
              "      <th>6</th>\n",
              "      <td>19.563807</td>\n",
              "    </tr>\n",
              "    <tr>\n",
              "      <th>7</th>\n",
              "      <td>18.914088</td>\n",
              "    </tr>\n",
              "    <tr>\n",
              "      <th>8</th>\n",
              "      <td>19.465659</td>\n",
              "    </tr>\n",
              "    <tr>\n",
              "      <th>9</th>\n",
              "      <td>17.982210</td>\n",
              "    </tr>\n",
              "    <tr>\n",
              "      <th>10</th>\n",
              "      <td>16.775103</td>\n",
              "    </tr>\n",
              "    <tr>\n",
              "      <th>11</th>\n",
              "      <td>17.804255</td>\n",
              "    </tr>\n",
              "    <tr>\n",
              "      <th>12</th>\n",
              "      <td>16.302112</td>\n",
              "    </tr>\n",
              "    <tr>\n",
              "      <th>13</th>\n",
              "      <td>16.251686</td>\n",
              "    </tr>\n",
              "    <tr>\n",
              "      <th>14</th>\n",
              "      <td>16.312621</td>\n",
              "    </tr>\n",
              "    <tr>\n",
              "      <th>15</th>\n",
              "      <td>16.266954</td>\n",
              "    </tr>\n",
              "    <tr>\n",
              "      <th>16</th>\n",
              "      <td>15.906520</td>\n",
              "    </tr>\n",
              "  </tbody>\n",
              "</table>\n",
              "</div>"
            ],
            "text/plain": [
              "    Predicted CO2 Emissions\n",
              "0                 19.936810\n",
              "1                 20.402232\n",
              "2                 19.254159\n",
              "3                 19.965316\n",
              "4                 19.406870\n",
              "5                 19.838446\n",
              "6                 19.563807\n",
              "7                 18.914088\n",
              "8                 19.465659\n",
              "9                 17.982210\n",
              "10                16.775103\n",
              "11                17.804255\n",
              "12                16.302112\n",
              "13                16.251686\n",
              "14                16.312621\n",
              "15                16.266954\n",
              "16                15.906520"
            ]
          },
          "metadata": {
            "tags": []
          },
          "execution_count": 8
        }
      ]
    },
    {
      "cell_type": "code",
      "metadata": {
        "colab": {
          "base_uri": "https://localhost:8080/",
          "height": 612
        },
        "id": "zDgbkTxoz4DI",
        "outputId": "97e25078-4b6f-44b5-f028-96fb8a65d9c3"
      },
      "source": [
        "test=pd.DataFrame(test).rename(columns={0:\"CO2 Emissions\"})\n",
        "test"
      ],
      "execution_count": 9,
      "outputs": [
        {
          "output_type": "execute_result",
          "data": {
            "text/html": [
              "<div>\n",
              "<style scoped>\n",
              "    .dataframe tbody tr th:only-of-type {\n",
              "        vertical-align: middle;\n",
              "    }\n",
              "\n",
              "    .dataframe tbody tr th {\n",
              "        vertical-align: top;\n",
              "    }\n",
              "\n",
              "    .dataframe thead th {\n",
              "        text-align: right;\n",
              "    }\n",
              "</style>\n",
              "<table border=\"1\" class=\"dataframe\">\n",
              "  <thead>\n",
              "    <tr style=\"text-align: right;\">\n",
              "      <th></th>\n",
              "      <th>CO2 Emissions</th>\n",
              "    </tr>\n",
              "  </thead>\n",
              "  <tbody>\n",
              "    <tr>\n",
              "      <th>0</th>\n",
              "      <td>19.727170</td>\n",
              "    </tr>\n",
              "    <tr>\n",
              "      <th>1</th>\n",
              "      <td>20.178751</td>\n",
              "    </tr>\n",
              "    <tr>\n",
              "      <th>2</th>\n",
              "      <td>19.636505</td>\n",
              "    </tr>\n",
              "    <tr>\n",
              "      <th>3</th>\n",
              "      <td>19.613404</td>\n",
              "    </tr>\n",
              "    <tr>\n",
              "      <th>4</th>\n",
              "      <td>19.564105</td>\n",
              "    </tr>\n",
              "    <tr>\n",
              "      <th>5</th>\n",
              "      <td>19.658371</td>\n",
              "    </tr>\n",
              "    <tr>\n",
              "      <th>6</th>\n",
              "      <td>19.591885</td>\n",
              "    </tr>\n",
              "    <tr>\n",
              "      <th>7</th>\n",
              "      <td>19.094067</td>\n",
              "    </tr>\n",
              "    <tr>\n",
              "      <th>8</th>\n",
              "      <td>19.217898</td>\n",
              "    </tr>\n",
              "    <tr>\n",
              "      <th>9</th>\n",
              "      <td>18.461764</td>\n",
              "    </tr>\n",
              "    <tr>\n",
              "      <th>10</th>\n",
              "      <td>17.157738</td>\n",
              "    </tr>\n",
              "    <tr>\n",
              "      <th>11</th>\n",
              "      <td>17.443111</td>\n",
              "    </tr>\n",
              "    <tr>\n",
              "      <th>12</th>\n",
              "      <td>16.915202</td>\n",
              "    </tr>\n",
              "    <tr>\n",
              "      <th>13</th>\n",
              "      <td>16.193429</td>\n",
              "    </tr>\n",
              "    <tr>\n",
              "      <th>14</th>\n",
              "      <td>16.362224</td>\n",
              "    </tr>\n",
              "    <tr>\n",
              "      <th>15</th>\n",
              "      <td>16.416576</td>\n",
              "    </tr>\n",
              "    <tr>\n",
              "      <th>16</th>\n",
              "      <td>15.989866</td>\n",
              "    </tr>\n",
              "    <tr>\n",
              "      <th>17</th>\n",
              "      <td>15.502204</td>\n",
              "    </tr>\n",
              "  </tbody>\n",
              "</table>\n",
              "</div>"
            ],
            "text/plain": [
              "    CO2 Emissions\n",
              "0       19.727170\n",
              "1       20.178751\n",
              "2       19.636505\n",
              "3       19.613404\n",
              "4       19.564105\n",
              "5       19.658371\n",
              "6       19.591885\n",
              "7       19.094067\n",
              "8       19.217898\n",
              "9       18.461764\n",
              "10      17.157738\n",
              "11      17.443111\n",
              "12      16.915202\n",
              "13      16.193429\n",
              "14      16.362224\n",
              "15      16.416576\n",
              "16      15.989866\n",
              "17      15.502204"
            ]
          },
          "metadata": {
            "tags": []
          },
          "execution_count": 9
        }
      ]
    },
    {
      "cell_type": "code",
      "metadata": {
        "colab": {
          "base_uri": "https://localhost:8080/",
          "height": 577
        },
        "id": "f3ocnQ360mWC",
        "outputId": "13797779-0916-475e-9a72-751992338a91"
      },
      "source": [
        "# Plot the actual observations and predictions again.\n",
        "plt.figure(figsize=(20,10))\n",
        "plt.plot(test[\"CO2 Emissions\"],label=\"Actual\")\n",
        "plt.plot(predictions[\"Predicted CO2 Emissions\"],label=\"Predicted\")\n",
        "plt.legend(fontsize=15)\n",
        "plt.show()"
      ],
      "execution_count": 10,
      "outputs": [
        {
          "output_type": "display_data",
          "data": {
            "image/png": "[encoded data removed]",
            "text/plain": [
              "<Figure size 1440x720 with 1 Axes>"
            ]
          },
          "metadata": {
            "tags": [],
            "needs_background": "light"
          }
        }
      ]
    },
    {
      "cell_type": "markdown",
      "metadata": {
        "id": "D37Yci_A7E88"
      },
      "source": [
        "##### Much better this time. Next, put the year, actual CO2 Emissions and Predictions into one dataframe and calculate the absolute error for each year in the test data."
      ]
    },
    {
      "cell_type": "code",
      "metadata": {
        "colab": {
          "base_uri": "https://localhost:8080/",
          "height": 612
        },
        "id": "FaUNzD3_2MkK",
        "outputId": "55ad63e8-7950-471d-e9bb-1ecf0141a991"
      },
      "source": [
        "year=df[[\"Year\"]]\n",
        "train_year, test_year = year[0:size], year[size:len(X)]\n",
        "test_year=test_year.reset_index(drop=True)\n",
        "test_year"
      ],
      "execution_count": 11,
      "outputs": [
        {
          "output_type": "execute_result",
          "data": {
            "text/html": [
              "<div>\n",
              "<style scoped>\n",
              "    .dataframe tbody tr th:only-of-type {\n",
              "        vertical-align: middle;\n",
              "    }\n",
              "\n",
              "    .dataframe tbody tr th {\n",
              "        vertical-align: top;\n",
              "    }\n",
              "\n",
              "    .dataframe thead th {\n",
              "        text-align: right;\n",
              "    }\n",
              "</style>\n",
              "<table border=\"1\" class=\"dataframe\">\n",
              "  <thead>\n",
              "    <tr style=\"text-align: right;\">\n",
              "      <th></th>\n",
              "      <th>Year</th>\n",
              "    </tr>\n",
              "  </thead>\n",
              "  <tbody>\n",
              "    <tr>\n",
              "      <th>0</th>\n",
              "      <td>1999</td>\n",
              "    </tr>\n",
              "    <tr>\n",
              "      <th>1</th>\n",
              "      <td>2000</td>\n",
              "    </tr>\n",
              "    <tr>\n",
              "      <th>2</th>\n",
              "      <td>2001</td>\n",
              "    </tr>\n",
              "    <tr>\n",
              "      <th>3</th>\n",
              "      <td>2002</td>\n",
              "    </tr>\n",
              "    <tr>\n",
              "      <th>4</th>\n",
              "      <td>2003</td>\n",
              "    </tr>\n",
              "    <tr>\n",
              "      <th>5</th>\n",
              "      <td>2004</td>\n",
              "    </tr>\n",
              "    <tr>\n",
              "      <th>6</th>\n",
              "      <td>2005</td>\n",
              "    </tr>\n",
              "    <tr>\n",
              "      <th>7</th>\n",
              "      <td>2006</td>\n",
              "    </tr>\n",
              "    <tr>\n",
              "      <th>8</th>\n",
              "      <td>2007</td>\n",
              "    </tr>\n",
              "    <tr>\n",
              "      <th>9</th>\n",
              "      <td>2008</td>\n",
              "    </tr>\n",
              "    <tr>\n",
              "      <th>10</th>\n",
              "      <td>2009</td>\n",
              "    </tr>\n",
              "    <tr>\n",
              "      <th>11</th>\n",
              "      <td>2010</td>\n",
              "    </tr>\n",
              "    <tr>\n",
              "      <th>12</th>\n",
              "      <td>2011</td>\n",
              "    </tr>\n",
              "    <tr>\n",
              "      <th>13</th>\n",
              "      <td>2012</td>\n",
              "    </tr>\n",
              "    <tr>\n",
              "      <th>14</th>\n",
              "      <td>2013</td>\n",
              "    </tr>\n",
              "    <tr>\n",
              "      <th>15</th>\n",
              "      <td>2014</td>\n",
              "    </tr>\n",
              "    <tr>\n",
              "      <th>16</th>\n",
              "      <td>2015</td>\n",
              "    </tr>\n",
              "    <tr>\n",
              "      <th>17</th>\n",
              "      <td>2016</td>\n",
              "    </tr>\n",
              "  </tbody>\n",
              "</table>\n",
              "</div>"
            ],
            "text/plain": [
              "    Year\n",
              "0   1999\n",
              "1   2000\n",
              "2   2001\n",
              "3   2002\n",
              "4   2003\n",
              "5   2004\n",
              "6   2005\n",
              "7   2006\n",
              "8   2007\n",
              "9   2008\n",
              "10  2009\n",
              "11  2010\n",
              "12  2011\n",
              "13  2012\n",
              "14  2013\n",
              "15  2014\n",
              "16  2015\n",
              "17  2016"
            ]
          },
          "metadata": {
            "tags": []
          },
          "execution_count": 11
        }
      ]
    },
    {
      "cell_type": "code",
      "metadata": {
        "colab": {
          "base_uri": "https://localhost:8080/",
          "height": 581
        },
        "id": "IRtXpdcA2M1h",
        "outputId": "fb6e6528-d54f-42c9-b4cb-4f7ac101d8f1"
      },
      "source": [
        "test=pd.concat([test_year,test,predictions],axis=1)\n",
        "test[\"Absolute Errors\"]=np.abs(test[\"CO2 Emissions\"]-predictions[\"Predicted CO2 Emissions\"])\n",
        "test=test.dropna()\n",
        "test"
      ],
      "execution_count": 12,
      "outputs": [
        {
          "output_type": "execute_result",
          "data": {
            "text/html": [
              "<div>\n",
              "<style scoped>\n",
              "    .dataframe tbody tr th:only-of-type {\n",
              "        vertical-align: middle;\n",
              "    }\n",
              "\n",
              "    .dataframe tbody tr th {\n",
              "        vertical-align: top;\n",
              "    }\n",
              "\n",
              "    .dataframe thead th {\n",
              "        text-align: right;\n",
              "    }\n",
              "</style>\n",
              "<table border=\"1\" class=\"dataframe\">\n",
              "  <thead>\n",
              "    <tr style=\"text-align: right;\">\n",
              "      <th></th>\n",
              "      <th>Year</th>\n",
              "      <th>CO2 Emissions</th>\n",
              "      <th>Predicted CO2 Emissions</th>\n",
              "      <th>Absolute Errors</th>\n",
              "    </tr>\n",
              "  </thead>\n",
              "  <tbody>\n",
              "    <tr>\n",
              "      <th>0</th>\n",
              "      <td>1999</td>\n",
              "      <td>19.727170</td>\n",
              "      <td>19.936810</td>\n",
              "      <td>0.209640</td>\n",
              "    </tr>\n",
              "    <tr>\n",
              "      <th>1</th>\n",
              "      <td>2000</td>\n",
              "      <td>20.178751</td>\n",
              "      <td>20.402232</td>\n",
              "      <td>0.223482</td>\n",
              "    </tr>\n",
              "    <tr>\n",
              "      <th>2</th>\n",
              "      <td>2001</td>\n",
              "      <td>19.636505</td>\n",
              "      <td>19.254159</td>\n",
              "      <td>0.382346</td>\n",
              "    </tr>\n",
              "    <tr>\n",
              "      <th>3</th>\n",
              "      <td>2002</td>\n",
              "      <td>19.613404</td>\n",
              "      <td>19.965316</td>\n",
              "      <td>0.351912</td>\n",
              "    </tr>\n",
              "    <tr>\n",
              "      <th>4</th>\n",
              "      <td>2003</td>\n",
              "      <td>19.564105</td>\n",
              "      <td>19.406870</td>\n",
              "      <td>0.157235</td>\n",
              "    </tr>\n",
              "    <tr>\n",
              "      <th>5</th>\n",
              "      <td>2004</td>\n",
              "      <td>19.658371</td>\n",
              "      <td>19.838446</td>\n",
              "      <td>0.180075</td>\n",
              "    </tr>\n",
              "    <tr>\n",
              "      <th>6</th>\n",
              "      <td>2005</td>\n",
              "      <td>19.591885</td>\n",
              "      <td>19.563807</td>\n",
              "      <td>0.028079</td>\n",
              "    </tr>\n",
              "    <tr>\n",
              "      <th>7</th>\n",
              "      <td>2006</td>\n",
              "      <td>19.094067</td>\n",
              "      <td>18.914088</td>\n",
              "      <td>0.179978</td>\n",
              "    </tr>\n",
              "    <tr>\n",
              "      <th>8</th>\n",
              "      <td>2007</td>\n",
              "      <td>19.217898</td>\n",
              "      <td>19.465659</td>\n",
              "      <td>0.247761</td>\n",
              "    </tr>\n",
              "    <tr>\n",
              "      <th>9</th>\n",
              "      <td>2008</td>\n",
              "      <td>18.461764</td>\n",
              "      <td>17.982210</td>\n",
              "      <td>0.479553</td>\n",
              "    </tr>\n",
              "    <tr>\n",
              "      <th>10</th>\n",
              "      <td>2009</td>\n",
              "      <td>17.157738</td>\n",
              "      <td>16.775103</td>\n",
              "      <td>0.382635</td>\n",
              "    </tr>\n",
              "    <tr>\n",
              "      <th>11</th>\n",
              "      <td>2010</td>\n",
              "      <td>17.443111</td>\n",
              "      <td>17.804255</td>\n",
              "      <td>0.361144</td>\n",
              "    </tr>\n",
              "    <tr>\n",
              "      <th>12</th>\n",
              "      <td>2011</td>\n",
              "      <td>16.915202</td>\n",
              "      <td>16.302112</td>\n",
              "      <td>0.613090</td>\n",
              "    </tr>\n",
              "    <tr>\n",
              "      <th>13</th>\n",
              "      <td>2012</td>\n",
              "      <td>16.193429</td>\n",
              "      <td>16.251686</td>\n",
              "      <td>0.058257</td>\n",
              "    </tr>\n",
              "    <tr>\n",
              "      <th>14</th>\n",
              "      <td>2013</td>\n",
              "      <td>16.362224</td>\n",
              "      <td>16.312621</td>\n",
              "      <td>0.049603</td>\n",
              "    </tr>\n",
              "    <tr>\n",
              "      <th>15</th>\n",
              "      <td>2014</td>\n",
              "      <td>16.416576</td>\n",
              "      <td>16.266954</td>\n",
              "      <td>0.149622</td>\n",
              "    </tr>\n",
              "    <tr>\n",
              "      <th>16</th>\n",
              "      <td>2015</td>\n",
              "      <td>15.989866</td>\n",
              "      <td>15.906520</td>\n",
              "      <td>0.083346</td>\n",
              "    </tr>\n",
              "  </tbody>\n",
              "</table>\n",
              "</div>"
            ],
            "text/plain": [
              "    Year  CO2 Emissions  Predicted CO2 Emissions  Absolute Errors\n",
              "0   1999      19.727170                19.936810         0.209640\n",
              "1   2000      20.178751                20.402232         0.223482\n",
              "2   2001      19.636505                19.254159         0.382346\n",
              "3   2002      19.613404                19.965316         0.351912\n",
              "4   2003      19.564105                19.406870         0.157235\n",
              "5   2004      19.658371                19.838446         0.180075\n",
              "6   2005      19.591885                19.563807         0.028079\n",
              "7   2006      19.094067                18.914088         0.179978\n",
              "8   2007      19.217898                19.465659         0.247761\n",
              "9   2008      18.461764                17.982210         0.479553\n",
              "10  2009      17.157738                16.775103         0.382635\n",
              "11  2010      17.443111                17.804255         0.361144\n",
              "12  2011      16.915202                16.302112         0.613090\n",
              "13  2012      16.193429                16.251686         0.058257\n",
              "14  2013      16.362224                16.312621         0.049603\n",
              "15  2014      16.416576                16.266954         0.149622\n",
              "16  2015      15.989866                15.906520         0.083346"
            ]
          },
          "metadata": {
            "tags": []
          },
          "execution_count": 12
        }
      ]
    },
    {
      "cell_type": "markdown",
      "metadata": {
        "id": "59DdWgpw7hut"
      },
      "source": [
        "##### Use the model to forecast. This is different from predicting. When we predict, we have actual observations, the test data, to compare our predictions to. When we forecast, we want to know what has not happened yet. So, there is no actual observations to compare the forecast values to. We want to see whether the U.S. would be able to achieve net-zero emission by mid-century. So, we are going to forecast from the last year in the table above till 2050. We also want to use the 99% confidence interval. So, set alpha to be 0.01."
      ]
    },
    {
      "cell_type": "code",
      "metadata": {
        "id": "hedOhwm51rHx"
      },
      "source": [
        "fc, se, conf=model_fit.forecast(2050-test[\"Year\"].max(),alpha=0.01)"
      ],
      "execution_count": 15,
      "outputs": []
    },
    {
      "cell_type": "code",
      "metadata": {
        "colab": {
          "base_uri": "https://localhost:8080/"
        },
        "id": "qGmqZFkj1ztn",
        "outputId": "6708e161-4d3d-4e8b-8db9-56a3be363b2c"
      },
      "source": [
        "fc"
      ],
      "execution_count": 16,
      "outputs": [
        {
          "output_type": "execute_result",
          "data": {
            "text/plain": [
              "array([15.90652026, 15.93142513, 15.82090337, 15.80486746, 15.81977749,\n",
              "       15.78014792, 15.76858364, 15.77204764, 15.75682316, 15.74929494,\n",
              "       15.74766357, 15.73950629, 15.73335386, 15.72954238, 15.72353316,\n",
              "       15.71798676, 15.71333279, 15.70795055, 15.70265008, 15.69768318,\n",
              "       15.69248054, 15.68727972, 15.68220089, 15.67704748, 15.67188589,\n",
              "       15.66676811, 15.66162736, 15.65648089, 15.65134988, 15.64621203,\n",
              "       15.64107127, 15.63593587, 15.63079852, 15.62565987, 15.62052305])"
            ]
          },
          "metadata": {
            "tags": []
          },
          "execution_count": 16
        }
      ]
    },
    {
      "cell_type": "markdown",
      "metadata": {
        "id": "yoOChsI78PQ2"
      },
      "source": [
        "###### It seems like the U.S. is not going to achieve net zero emission by 2050. Let's output the confidence intervals for the forecast values."
      ]
    },
    {
      "cell_type": "code",
      "metadata": {
        "colab": {
          "base_uri": "https://localhost:8080/"
        },
        "id": "zNBSaxkc5B-f",
        "outputId": "4689a240-a85a-4f0f-9f00-9f656daadaa0"
      },
      "source": [
        "conf"
      ],
      "execution_count": 17,
      "outputs": [
        {
          "output_type": "execute_result",
          "data": {
            "text/plain": [
              "array([[14.62119395, 17.19184656],\n",
              "       [13.62883442, 18.23401584],\n",
              "       [12.88720164, 18.75460509],\n",
              "       [12.23884695, 19.37088797],\n",
              "       [11.65351847, 19.98603652],\n",
              "       [11.11159415, 20.4487017 ],\n",
              "       [10.61654777, 20.92061951],\n",
              "       [10.15795259, 21.38614269],\n",
              "       [ 9.72340903, 21.79023729],\n",
              "       [ 9.31799756, 22.18059233],\n",
              "       [ 8.93629498, 22.55903216],\n",
              "       [ 8.57062607, 22.90838651],\n",
              "       [ 8.22267565, 23.24403207],\n",
              "       [ 7.89029139, 23.56879337],\n",
              "       [ 7.56970935, 23.87735698],\n",
              "       [ 7.26104396, 24.17492956],\n",
              "       [ 6.96324983, 24.46341575],\n",
              "       [ 6.67447294, 24.74142817],\n",
              "       [ 6.39436852, 25.01093164],\n",
              "       [ 6.12231671, 25.27304966],\n",
              "       [ 5.85735122, 25.52760987],\n",
              "       [ 5.59907582, 25.77548362],\n",
              "       [ 5.34706485, 26.01733694],\n",
              "       [ 5.10076408, 26.25333089],\n",
              "       [ 4.85983644, 26.48393534],\n",
              "       [ 4.62396815, 26.70956806],\n",
              "       [ 4.39280694, 26.93044778],\n",
              "       [ 4.16608749, 27.14687429],\n",
              "       [ 3.94357063, 27.35912913],\n",
              "       [ 3.72501198, 27.56741208],\n",
              "       [ 3.5102057 , 27.77193684],\n",
              "       [ 3.29896576, 27.97290597],\n",
              "       [ 3.09111141, 28.17048563],\n",
              "       [ 2.8864816 , 28.36483813],\n",
              "       [ 2.68492924, 28.55611685]])"
            ]
          },
          "metadata": {
            "tags": []
          },
          "execution_count": 17
        }
      ]
    },
    {
      "cell_type": "markdown",
      "metadata": {
        "id": "XIBM7Bp18gsg"
      },
      "source": [
        "##### The further into the future we forecast, the more uncertainity there is. Hence, the further into the future, the wider the confidence intervals become. The forecast shows that even if the U.S. manages to lower its CO2 emissions to the lower bound of the confidence intervals, it will still not achieve net-zero emission by 2050.\n",
        "\n",
        "##### Is net zero emission ever possible? Let's forecast further into the future, say, 2065."
      ]
    },
    {
      "cell_type": "code",
      "metadata": {
        "id": "hl5c_Qq_8f_c"
      },
      "source": [
        "fc, se, conf=model_fit.forecast(2065-test[\"Year\"].max(),alpha=0.01)"
      ],
      "execution_count": 19,
      "outputs": []
    },
    {
      "cell_type": "code",
      "metadata": {
        "colab": {
          "base_uri": "https://localhost:8080/"
        },
        "id": "-2JX24QR9QbW",
        "outputId": "d011eca5-04b1-459d-c555-bc9f71fdc94f"
      },
      "source": [
        "conf"
      ],
      "execution_count": 20,
      "outputs": [
        {
          "output_type": "execute_result",
          "data": {
            "text/plain": [
              "array([[14.62119395, 17.19184656],\n",
              "       [13.62883442, 18.23401584],\n",
              "       [12.88720164, 18.75460509],\n",
              "       [12.23884695, 19.37088797],\n",
              "       [11.65351847, 19.98603652],\n",
              "       [11.11159415, 20.4487017 ],\n",
              "       [10.61654777, 20.92061951],\n",
              "       [10.15795259, 21.38614269],\n",
              "       [ 9.72340903, 21.79023729],\n",
              "       [ 9.31799756, 22.18059233],\n",
              "       [ 8.93629498, 22.55903216],\n",
              "       [ 8.57062607, 22.90838651],\n",
              "       [ 8.22267565, 23.24403207],\n",
              "       [ 7.89029139, 23.56879337],\n",
              "       [ 7.56970935, 23.87735698],\n",
              "       [ 7.26104396, 24.17492956],\n",
              "       [ 6.96324983, 24.46341575],\n",
              "       [ 6.67447294, 24.74142817],\n",
              "       [ 6.39436852, 25.01093164],\n",
              "       [ 6.12231671, 25.27304966],\n",
              "       [ 5.85735122, 25.52760987],\n",
              "       [ 5.59907582, 25.77548362],\n",
              "       [ 5.34706485, 26.01733694],\n",
              "       [ 5.10076408, 26.25333089],\n",
              "       [ 4.85983644, 26.48393534],\n",
              "       [ 4.62396815, 26.70956806],\n",
              "       [ 4.39280694, 26.93044778],\n",
              "       [ 4.16608749, 27.14687429],\n",
              "       [ 3.94357063, 27.35912913],\n",
              "       [ 3.72501198, 27.56741208],\n",
              "       [ 3.5102057 , 27.77193684],\n",
              "       [ 3.29896576, 27.97290597],\n",
              "       [ 3.09111141, 28.17048563],\n",
              "       [ 2.8864816 , 28.36483813],\n",
              "       [ 2.68492924, 28.55611685],\n",
              "       [ 2.48631457, 28.74445684],\n",
              "       [ 2.29050961, 28.92998602],\n",
              "       [ 2.09739617, 29.11282492],\n",
              "       [ 1.90686288, 29.29308342],\n",
              "       [ 1.71880626, 29.47086481],\n",
              "       [ 1.53312993, 29.64626633],\n",
              "       [ 1.34974315, 29.81937824],\n",
              "       [ 1.16856093, 29.99028543],\n",
              "       [ 0.98950354, 30.15906792],\n",
              "       [ 0.8124958 , 30.32580076],\n",
              "       [ 0.63746689, 30.4905547 ],\n",
              "       [ 0.46435003, 30.65339664],\n",
              "       [ 0.29308207, 30.81438968],\n",
              "       [ 0.12360326, 30.97359355],\n",
              "       [-0.04414298, 31.13106486]])"
            ]
          },
          "metadata": {
            "tags": []
          },
          "execution_count": 20
        }
      ]
    },
    {
      "cell_type": "markdown",
      "metadata": {
        "id": "UBbyEQ2F9W7m"
      },
      "source": [
        "##### It seems that if the U.S. can lower its annual CO2 emissions to the lower bound, then it might actually have a chance to achieve net-zero emission by 2065. At the same time, if nothing is done to curb CO2 emission, by 2065, instead of net-zero, CO2 emission might be double of its current amount."
      ]
    }
  ]
}